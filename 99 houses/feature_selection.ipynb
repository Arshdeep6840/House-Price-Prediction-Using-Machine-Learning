{
 "cells": [
  {
   "cell_type": "code",
   "execution_count": 2,
   "id": "9afb6240-5e20-4af9-9c59-eecbf41aae2b",
   "metadata": {},
   "outputs": [],
   "source": [
    "import pandas as pd \n",
    "import numpy as np"
   ]
  },
  {
   "cell_type": "code",
   "execution_count": 4,
   "id": "4c748d88-0025-4197-adee-d44a6e2b21ed",
   "metadata": {},
   "outputs": [
    {
     "name": "stdout",
     "output_type": "stream",
     "text": [
      "<class 'pandas.core.frame.DataFrame'>\n",
      "RangeIndex: 24 entries, 0 to 23\n",
      "Data columns (total 15 columns):\n",
      " #   Column                       Non-Null Count  Dtype  \n",
      "---  ------                       --------------  -----  \n",
      " 0   Unnamed: 0                   24 non-null     int64  \n",
      " 1   Feature                      24 non-null     object \n",
      " 2   CORR_log_price               15 non-null     float64\n",
      " 3   LASSO_Coefficient            24 non-null     float64\n",
      " 4   LASSO_Importance (abs)       24 non-null     float64\n",
      " 5   RIDGE_Coefficient            24 non-null     float64\n",
      " 6   RIDGE_Importance (abs)       24 non-null     float64\n",
      " 7   PERM_Importance              24 non-null     float64\n",
      " 8   RF_Importance                24 non-null     float64\n",
      " 9   MI_MI Score                  24 non-null     float64\n",
      " 10  ANOVA_F-Value                24 non-null     float64\n",
      " 11  ANOVA_p-Value                24 non-null     float64\n",
      " 12  some of CORR_LC_RC_PI_RI_MS  24 non-null     float64\n",
      " 13  Unnamed: 13                  24 non-null     bool   \n",
      " 14  p_value cheker               24 non-null     bool   \n",
      "dtypes: bool(2), float64(11), int64(1), object(1)\n",
      "memory usage: 2.6+ KB\n"
     ]
    }
   ],
   "source": [
    "df = pd.read_csv('data/feature_selection.csv')\n",
    "df.info()"
   ]
  },
  {
   "cell_type": "code",
   "execution_count": 4,
   "id": "9a0dbf43-28da-4d8c-b8cc-5fda585adbde",
   "metadata": {},
   "outputs": [],
   "source": [
    "df = df[['Feature', 'CORR_log_price', 'LASSO_Coefficient',\n",
    "       'LASSO_Importance (abs)', 'RIDGE_Coefficient', 'RIDGE_Importance (abs)',\n",
    "       'PERM_Importance', 'RF_Importance', 'MI_MI Score', 'ANOVA_F-Value',\n",
    "       'ANOVA_p-Value', 'some of CORR_LC_RC_PI_RI_MS', 'Unnamed: 13',\n",
    "       'p_value cheker ']]"
   ]
  },
  {
   "cell_type": "code",
   "execution_count": 5,
   "id": "f1856d4d-dd56-4100-8d4f-5245ad2c4f0b",
   "metadata": {},
   "outputs": [],
   "source": [
    "df.rename(columns={'some of CORR_LC_RC_PI_RI_MS': 'sum_of_CORR_LC_RC_PI_RI_MS',\n",
    "                   'Unnamed: 13': 'Greater_then_0.1',\n",
    "                   'p_value cheker ': 'p_value_checker'\n",
    "                  }, inplace = True)"
   ]
  },
  {
   "cell_type": "code",
   "execution_count": 6,
   "id": "8bcb66a9-4b8d-456c-825b-0f381ebbcbe3",
   "metadata": {},
   "outputs": [
    {
     "name": "stdout",
     "output_type": "stream",
     "text": [
      "                    Feature  sum_of_CORR_LC_RC_PI_RI_MS  ANOVA_p-Value\n",
      "6            additionalRoom                      0.2209         0.0000\n",
      "7     additional_room_count                      0.5286         0.0000\n",
      "8   adjusted_price_per_sqft                      2.3182         0.0000\n",
      "10                  balcony                      0.6922         0.0000\n",
      "11                 bathroom                      1.3653         0.0000\n",
      "12                  bedRoom                      1.0855         0.0000\n",
      "14        features_category                      0.1411         0.0041\n",
      "15           features_score                      0.3621         0.0000\n",
      "16                    floor                      0.3218         0.0000\n",
      "17         furnish_category                      0.1109         0.0000\n",
      "18            furnish_score                      0.4821         0.0000\n",
      "19            property_name                      1.0754         0.0000\n",
      "21                   sector                      0.6500         0.0000\n",
      "22                  society                      0.7170         0.0000\n"
     ]
    }
   ],
   "source": [
    "# Example filter: keep if sum column > 0.1 AND p_value checker is TRUE\n",
    "\n",
    "selected = df[\n",
    "    (df['sum_of_CORR_LC_RC_PI_RI_MS'] > 0.1) &\n",
    "    (df['p_value_checker'] == True)\n",
    "]\n",
    "\n"
   ]
  },
  {
   "cell_type": "code",
   "execution_count": 11,
   "id": "a8e5dd50-ea20-4736-886f-5c99b2657e27",
   "metadata": {},
   "outputs": [
    {
     "data": {
      "text/html": [
       "<div>\n",
       "<style scoped>\n",
       "    .dataframe tbody tr th:only-of-type {\n",
       "        vertical-align: middle;\n",
       "    }\n",
       "\n",
       "    .dataframe tbody tr th {\n",
       "        vertical-align: top;\n",
       "    }\n",
       "\n",
       "    .dataframe thead th {\n",
       "        text-align: right;\n",
       "    }\n",
       "</style>\n",
       "<table border=\"1\" class=\"dataframe\">\n",
       "  <thead>\n",
       "    <tr style=\"text-align: right;\">\n",
       "      <th></th>\n",
       "      <th>Feature</th>\n",
       "      <th>sum_of_CORR_LC_RC_PI_RI_MS</th>\n",
       "      <th>ANOVA_p-Value</th>\n",
       "    </tr>\n",
       "  </thead>\n",
       "  <tbody>\n",
       "    <tr>\n",
       "      <th>0</th>\n",
       "      <td>additionalRoom</td>\n",
       "      <td>0.2209</td>\n",
       "      <td>0.0000</td>\n",
       "    </tr>\n",
       "    <tr>\n",
       "      <th>1</th>\n",
       "      <td>additional_room_count</td>\n",
       "      <td>0.5286</td>\n",
       "      <td>0.0000</td>\n",
       "    </tr>\n",
       "    <tr>\n",
       "      <th>2</th>\n",
       "      <td>adjusted_price_per_sqft</td>\n",
       "      <td>2.3182</td>\n",
       "      <td>0.0000</td>\n",
       "    </tr>\n",
       "    <tr>\n",
       "      <th>3</th>\n",
       "      <td>balcony</td>\n",
       "      <td>0.6922</td>\n",
       "      <td>0.0000</td>\n",
       "    </tr>\n",
       "    <tr>\n",
       "      <th>4</th>\n",
       "      <td>bathroom</td>\n",
       "      <td>1.3653</td>\n",
       "      <td>0.0000</td>\n",
       "    </tr>\n",
       "    <tr>\n",
       "      <th>5</th>\n",
       "      <td>bedRoom</td>\n",
       "      <td>1.0855</td>\n",
       "      <td>0.0000</td>\n",
       "    </tr>\n",
       "    <tr>\n",
       "      <th>6</th>\n",
       "      <td>features_category</td>\n",
       "      <td>0.1411</td>\n",
       "      <td>0.0041</td>\n",
       "    </tr>\n",
       "    <tr>\n",
       "      <th>7</th>\n",
       "      <td>features_score</td>\n",
       "      <td>0.3621</td>\n",
       "      <td>0.0000</td>\n",
       "    </tr>\n",
       "    <tr>\n",
       "      <th>8</th>\n",
       "      <td>floor</td>\n",
       "      <td>0.3218</td>\n",
       "      <td>0.0000</td>\n",
       "    </tr>\n",
       "    <tr>\n",
       "      <th>9</th>\n",
       "      <td>furnish_category</td>\n",
       "      <td>0.1109</td>\n",
       "      <td>0.0000</td>\n",
       "    </tr>\n",
       "    <tr>\n",
       "      <th>10</th>\n",
       "      <td>furnish_score</td>\n",
       "      <td>0.4821</td>\n",
       "      <td>0.0000</td>\n",
       "    </tr>\n",
       "    <tr>\n",
       "      <th>11</th>\n",
       "      <td>property_name</td>\n",
       "      <td>1.0754</td>\n",
       "      <td>0.0000</td>\n",
       "    </tr>\n",
       "    <tr>\n",
       "      <th>12</th>\n",
       "      <td>sector</td>\n",
       "      <td>0.6500</td>\n",
       "      <td>0.0000</td>\n",
       "    </tr>\n",
       "    <tr>\n",
       "      <th>13</th>\n",
       "      <td>society</td>\n",
       "      <td>0.7170</td>\n",
       "      <td>0.0000</td>\n",
       "    </tr>\n",
       "  </tbody>\n",
       "</table>\n",
       "</div>"
      ],
      "text/plain": [
       "                    Feature  sum_of_CORR_LC_RC_PI_RI_MS  ANOVA_p-Value\n",
       "0            additionalRoom                      0.2209         0.0000\n",
       "1     additional_room_count                      0.5286         0.0000\n",
       "2   adjusted_price_per_sqft                      2.3182         0.0000\n",
       "3                   balcony                      0.6922         0.0000\n",
       "4                  bathroom                      1.3653         0.0000\n",
       "5                   bedRoom                      1.0855         0.0000\n",
       "6         features_category                      0.1411         0.0041\n",
       "7            features_score                      0.3621         0.0000\n",
       "8                     floor                      0.3218         0.0000\n",
       "9          furnish_category                      0.1109         0.0000\n",
       "10            furnish_score                      0.4821         0.0000\n",
       "11            property_name                      1.0754         0.0000\n",
       "12                   sector                      0.6500         0.0000\n",
       "13                  society                      0.7170         0.0000"
      ]
     },
     "execution_count": 11,
     "metadata": {},
     "output_type": "execute_result"
    }
   ],
   "source": [
    "\n",
    "selected[['Feature', 'sum_of_CORR_LC_RC_PI_RI_MS', 'ANOVA_p-Value']].reset_index(drop = True)"
   ]
  },
  {
   "cell_type": "code",
   "execution_count": null,
   "id": "edbcd811-971f-463e-8dac-e5432e4faeb6",
   "metadata": {},
   "outputs": [],
   "source": [
    "['additional_room_count','adjusted_price_per_sqft','balcony','bathroom','bedRoom','features_score','floor','furnish_score','sector','society','property_name']"
   ]
  },
  {
   "cell_type": "code",
   "execution_count": 5,
   "id": "962957c4-574d-4516-b269-668f5e6a14b2",
   "metadata": {},
   "outputs": [
    {
     "name": "stdout",
     "output_type": "stream",
     "text": [
      "<class 'pandas.core.frame.DataFrame'>\n",
      "RangeIndex: 24 entries, 0 to 23\n",
      "Data columns (total 15 columns):\n",
      " #   Column                       Non-Null Count  Dtype  \n",
      "---  ------                       --------------  -----  \n",
      " 0   Unnamed: 0                   24 non-null     int64  \n",
      " 1   Feature                      24 non-null     object \n",
      " 2   CORR_log_price               15 non-null     float64\n",
      " 3   LASSO_Coefficient            24 non-null     float64\n",
      " 4   LASSO_Importance (abs)       24 non-null     float64\n",
      " 5   RIDGE_Coefficient            24 non-null     float64\n",
      " 6   RIDGE_Importance (abs)       24 non-null     float64\n",
      " 7   PERM_Importance              24 non-null     float64\n",
      " 8   RF_Importance                24 non-null     float64\n",
      " 9   MI_MI Score                  24 non-null     float64\n",
      " 10  ANOVA_F-Value                24 non-null     float64\n",
      " 11  ANOVA_p-Value                24 non-null     float64\n",
      " 12  some of CORR_LC_RC_PI_RI_MS  24 non-null     float64\n",
      " 13  Unnamed: 13                  24 non-null     bool   \n",
      " 14  p_value cheker               24 non-null     bool   \n",
      "dtypes: bool(2), float64(11), int64(1), object(1)\n",
      "memory usage: 2.6+ KB\n"
     ]
    }
   ],
   "source": [
    "df.info()"
   ]
  },
  {
   "cell_type": "code",
   "execution_count": null,
   "id": "30b7135a-0ac1-492c-b17e-70cc4e66c502",
   "metadata": {},
   "outputs": [],
   "source": []
  }
 ],
 "metadata": {
  "kernelspec": {
   "display_name": "Python 3 (ipykernel)",
   "language": "python",
   "name": "python3"
  },
  "language_info": {
   "codemirror_mode": {
    "name": "ipython",
    "version": 3
   },
   "file_extension": ".py",
   "mimetype": "text/x-python",
   "name": "python",
   "nbconvert_exporter": "python",
   "pygments_lexer": "ipython3",
   "version": "3.12.10"
  }
 },
 "nbformat": 4,
 "nbformat_minor": 5
}
