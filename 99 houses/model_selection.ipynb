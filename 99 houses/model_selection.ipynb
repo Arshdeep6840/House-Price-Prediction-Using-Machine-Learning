{
 "cells": [
  {
   "cell_type": "code",
   "id": "d69d35c8-4aea-4a2a-a642-199212dc11a8",
   "metadata": {
    "ExecuteTime": {
     "end_time": "2025-07-13T06:56:55.821876Z",
     "start_time": "2025-07-13T06:56:50.486712Z"
    }
   },
   "source": [
    "import pandas as pd \n",
    "import numpy as np \n",
    "\n",
    "from sklearn.model_selection import train_test_split, GridSearchCV,RandomizedSearchCV\n",
    "from sklearn.ensemble import RandomForestRegressor, AdaBoostRegressor,GradientBoostingRegressor,VotingRegressor\n",
    "from xgboost import XGBRegressor\n",
    "from sklearn.pipeline import Pipeline\n",
    "from sklearn.preprocessing import StandardScaler\n",
    "from sklearn.metrics import r2_score, mean_absolute_error, mean_squared_error"
   ],
   "outputs": [],
   "execution_count": 1
  },
  {
   "cell_type": "code",
   "id": "545adb2c-12ef-4165-a07e-0cf38b74227d",
   "metadata": {},
   "source": [
    "df = pd.read_csv('final_df.csv')\n",
    "df"
   ],
   "outputs": [],
   "execution_count": null
  },
  {
   "cell_type": "code",
   "id": "f256f53e-58be-45a0-bd76-5da6b44b714c",
   "metadata": {},
   "source": [
    "x  = df[['additional_room_count','adjusted_price_per_sqft','balcony','bathroom','bedRoom','features_score','floor','furnish_score','sector','society','property_name']]"
   ],
   "outputs": [],
   "execution_count": null
  },
  {
   "cell_type": "code",
   "id": "63f07dba-2ea7-4037-9783-7b0dca035ddb",
   "metadata": {},
   "source": [
    "y = df['log_price']"
   ],
   "outputs": [],
   "execution_count": null
  },
  {
   "cell_type": "code",
   "id": "d88dc38e-e9aa-40e6-a9d7-0fcdc54e83d9",
   "metadata": {},
   "source": [
    "x_train, x_test, y_train, y_test = train_test_split(x,y, test_size = .25, random_state=42)"
   ],
   "outputs": [],
   "execution_count": null
  },
  {
   "cell_type": "code",
   "id": "9556809b-c9be-4942-8b26-cdf4cd7c1198",
   "metadata": {},
   "source": [
    "x_train.shape, x_test.shape, y_train.shape, y_test.shape"
   ],
   "outputs": [],
   "execution_count": null
  },
  {
   "cell_type": "code",
   "id": "742e1449-c6a3-4910-8cf5-d97161c5623d",
   "metadata": {},
   "source": [
    "rfr = RandomForestRegressor()\n",
    "rfr.fit(x_train, y_train)"
   ],
   "outputs": [],
   "execution_count": null
  },
  {
   "cell_type": "code",
   "id": "299fc780-be18-4a28-ac15-8fb392979e73",
   "metadata": {},
   "source": [
    "y_pred = rfr.predict(x_test)\n",
    "\n",
    "print(f'R2 Score{r2_score(y_test, y_pred)}')\n",
    "print(f'Mean Square Error{mean_squared_error(y_test, y_pred)}')\n",
    "print(f'RMSE{mean_squared_error(y_test, y_pred)*.5}')"
   ],
   "outputs": [],
   "execution_count": null
  },
  {
   "cell_type": "code",
   "id": "b4f5aa17-40cb-4aed-b1e5-731daf1b939d",
   "metadata": {},
   "source": [
    "gbr = GradientBoostingRegressor()\n",
    "gbr.fit(x_train, y_train)"
   ],
   "outputs": [],
   "execution_count": null
  },
  {
   "cell_type": "code",
   "id": "68a4e4ee-03f3-4dd5-b689-27c0697f6c46",
   "metadata": {},
   "source": [
    "y_pred = gbr.predict(x_test)\n",
    "\n",
    "print(f'R2 Score{r2_score(y_test, y_pred)}')\n",
    "print(f'Mean Square Error{mean_squared_error(y_test, y_pred)}')\n",
    "print(f'RMSE{mean_squared_error(y_test, y_pred)*.5}')"
   ],
   "outputs": [],
   "execution_count": null
  },
  {
   "cell_type": "code",
   "id": "487db3bf-e421-41db-89d6-d5c61b3497b7",
   "metadata": {},
   "source": [
    "xgb = XGBRegressor()\n",
    "xgb.fit(x_train, y_train)\n"
   ],
   "outputs": [],
   "execution_count": null
  },
  {
   "cell_type": "code",
   "id": "eabce9cb-c250-4713-b803-b9f0927c53e7",
   "metadata": {},
   "source": [
    "y_pred = xgb.predict(x_test)\n",
    "\n",
    "print(f'R2 Score{r2_score(y_test, y_pred)}')\n",
    "print(f'Mean Square Error{mean_squared_error(y_test, y_pred)}')\n",
    "print(f'RMSE{mean_squared_error(y_test, y_pred)*.5}')\n"
   ],
   "outputs": [],
   "execution_count": null
  },
  {
   "cell_type": "code",
   "id": "6bfaa637-e70d-479d-83d7-44ae7624eb2f",
   "metadata": {},
   "source": [],
   "outputs": [],
   "execution_count": null
  },
  {
   "cell_type": "code",
   "id": "a5913968-0125-4b31-939a-7b98f8f64885",
   "metadata": {},
   "source": [],
   "outputs": [],
   "execution_count": null
  },
  {
   "cell_type": "code",
   "id": "b8eda3a7-7323-43ab-b6ee-9bc31fe6ade1",
   "metadata": {},
   "source": [],
   "outputs": [],
   "execution_count": null
  },
  {
   "cell_type": "code",
   "id": "a9b11612-81ca-40a3-bd49-b5a75e2200fe",
   "metadata": {},
   "source": [],
   "outputs": [],
   "execution_count": null
  },
  {
   "cell_type": "code",
   "id": "9f6d7bb0-3616-46a4-84b0-2b2eebb7df45",
   "metadata": {},
   "source": [],
   "outputs": [],
   "execution_count": null
  },
  {
   "cell_type": "code",
   "id": "0d890bb8-b7c4-465a-92ce-7e16be6bf79e",
   "metadata": {},
   "source": [],
   "outputs": [],
   "execution_count": null
  },
  {
   "cell_type": "code",
   "id": "7de7d868-65bd-4679-b307-fccedb7d8b2e",
   "metadata": {},
   "source": [],
   "outputs": [],
   "execution_count": null
  },
  {
   "cell_type": "code",
   "id": "1d9c1a84-69f5-42f0-accb-d9530f843db3",
   "metadata": {},
   "source": [],
   "outputs": [],
   "execution_count": null
  },
  {
   "cell_type": "code",
   "id": "45eb4587-1fdf-481b-b4fe-e699db7c561d",
   "metadata": {},
   "source": [],
   "outputs": [],
   "execution_count": null
  },
  {
   "cell_type": "code",
   "id": "266eec2c-2a8b-426e-8681-be659b641dcc",
   "metadata": {},
   "source": [],
   "outputs": [],
   "execution_count": null
  },
  {
   "cell_type": "markdown",
   "id": "198c6072-88be-4d0a-a10c-3be489a499ee",
   "metadata": {},
   "source": [
    "| Hyperparameter      | What it Controls                                            | Typical Range / Good Starting Points            |\n",
    "| ------------------- | ----------------------------------------------------------- | ----------------------------------------------- |\n",
    "| `n_estimators`      | Number of trees in the forest                               | 100 – 1000 (common default: 100)                |\n",
    "| `max_depth`         | Maximum depth of each tree                                  | None (unlimited) or 5–50                        |\n",
    "| `min_samples_split` | Minimum samples to split an internal node                   | 2–10                                            |\n",
    "| `min_samples_leaf`  | Minimum samples at a leaf node                              | 1–5                                             |\n",
    "| `max_features`      | Number of features to consider at each split                | `auto`, `sqrt`, `log2` or float (0.1–1.0)       |\n",
    "| `bootstrap`         | Whether bootstrap samples are used                          | `True` (default) or `False`                     |\n",
    "| `max_samples`       | Fraction of samples for bootstrapping (if `bootstrap=True`) | None or float (0.5–1.0)                         |\n",
    "| `criterion`         | Function to measure split quality                           | `'squared_error'` (default), `'absolute_error'` |\n",
    "| `oob_score`         | Use out-of-bag samples to estimate score                    | `True` or `False`                               |\n"
   ]
  },
  {
   "cell_type": "code",
   "id": "63ab26cc-846b-47c6-b6eb-68567984ce69",
   "metadata": {},
   "source": [],
   "outputs": [],
   "execution_count": null
  }
 ],
 "metadata": {
  "kernelspec": {
   "display_name": "Python 3 (ipykernel)",
   "language": "python",
   "name": "python3"
  },
  "language_info": {
   "codemirror_mode": {
    "name": "ipython",
    "version": 3
   },
   "file_extension": ".py",
   "mimetype": "text/x-python",
   "name": "python",
   "nbconvert_exporter": "python",
   "pygments_lexer": "ipython3",
   "version": "3.12.10"
  }
 },
 "nbformat": 4,
 "nbformat_minor": 5
}
